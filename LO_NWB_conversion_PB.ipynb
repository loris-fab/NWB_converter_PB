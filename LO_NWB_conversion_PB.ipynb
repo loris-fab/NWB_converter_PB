{
 "cells": [
  {
   "cell_type": "markdown",
   "id": "71ac0b88",
   "metadata": {},
   "source": [
    "# Preprocessing .mat for NWB"
   ]
  },
  {
   "cell_type": "code",
   "execution_count": null,
   "id": "eee9f332",
   "metadata": {},
   "outputs": [],
   "source": [
    "import numpy as np\n",
    "import h5py\n",
    "import os\n",
    "import yaml\n",
    "import pandas as pd\n",
    "from datetime import datetime\n",
    "import shutil\n",
    "import importlib\n",
    "import numpy as np\n",
    "import pandas as pd\n",
    "import convert_to_nwb_for_LB\n",
    "import converters.Initiation_nwb\n",
    "import scipy.io\n",
    "import warnings\n",
    "from datetime import timedelta\n",
    "from tqdm import tqdm\n",
    "import time\n",
    "import shutil\n",
    "\n"
   ]
  },
  {
   "cell_type": "markdown",
   "id": "3b848cdc",
   "metadata": {},
   "source": [
    "# Load data "
   ]
  },
  {
   "cell_type": "markdown",
   "id": "0785ecbc",
   "metadata": {},
   "source": [
    "## .mat files"
   ]
  },
  {
   "cell_type": "code",
   "execution_count": 2,
   "id": "d94a3651",
   "metadata": {},
   "outputs": [],
   "source": [
    "subject_session_selection = pd.read_csv('Subject_Session_Selection.csv')\n",
    "mat_file = \"/Users/lorisfabbro/Documents/MATLAB/PB/mPFC_Preprocessed.mat\"\n",
    "mat_file_2 = \"/Users/lorisfabbro/Documents/MATLAB/mPFC_Preprocessed.mat\"\n",
    "output_folder = \"data\""
   ]
  },
  {
   "cell_type": "code",
   "execution_count": 3,
   "id": "020ac8cf",
   "metadata": {},
   "outputs": [
    {
     "data": {
      "text/plain": [
       "Index(['Status (stts_name)', '<SLIMSGUID>', 'Mouse Name', 'Weight of Refence',\n",
       "       'Weight Experimet day', 'Relative weight', 'Behavioral task',\n",
       "       'Session Number', 'Session Type', 'User (user_userName)', 'Ear tag',\n",
       "       'Start date', 'End date', 'Sex_bin', 'strain', 'mutations',\n",
       "       'Birth date', 'licence', 'DG', 'ExpEnd', 'Created on'],\n",
       "      dtype='object')"
      ]
     },
     "execution_count": 3,
     "metadata": {},
     "output_type": "execute_result"
    }
   ],
   "source": [
    "subject_session_selection.columns"
   ]
  },
  {
   "cell_type": "markdown",
   "id": "13ca4ff7",
   "metadata": {},
   "source": [
    "### General"
   ]
  },
  {
   "cell_type": "markdown",
   "id": "4eac684f",
   "metadata": {},
   "source": [
    "INFO :\n",
    "- Acceder keys h5py.file :  list(group.keys())\n",
    "- Lire dataset [()] : roup = f['Data_Full']\n"
   ]
  },
  {
   "cell_type": "code",
   "execution_count": null,
   "id": "802b489c",
   "metadata": {},
   "outputs": [
    {
     "name": "stderr",
     "output_type": "stream",
     "text": [
      " 20%|██        | 1/5 [00:01<00:04,  1.14s/it]"
     ]
    },
    {
     "name": "stdout",
     "output_type": "stream",
     "text": [
      "Loading mouse metadata ...\n"
     ]
    },
    {
     "name": "stderr",
     "output_type": "stream",
     "text": [
      " 40%|████      | 2/5 [00:02<00:03,  1.07s/it]"
     ]
    },
    {
     "name": "stdout",
     "output_type": "stream",
     "text": [
      "Loading sweep signal data (1/3) ...\n"
     ]
    },
    {
     "name": "stderr",
     "output_type": "stream",
     "text": [
      " 60%|██████    | 3/5 [01:47<01:37, 48.64s/it]"
     ]
    },
    {
     "name": "stdout",
     "output_type": "stream",
     "text": [
      "Loading sweep signal data (2/3) ...\n"
     ]
    },
    {
     "name": "stderr",
     "output_type": "stream",
     "text": [
      " 80%|████████  | 4/5 [01:48<00:29, 29.96s/it]"
     ]
    },
    {
     "name": "stdout",
     "output_type": "stream",
     "text": [
      "Loading sweep signal data (3/3) ...\n"
     ]
    },
    {
     "name": "stderr",
     "output_type": "stream",
     "text": [
      "100%|██████████| 5/5 [01:49<00:00, 21.96s/it]\n"
     ]
    },
    {
     "name": "stdout",
     "output_type": "stream",
     "text": [
      "Loading sweep behavior data ...\n"
     ]
    },
    {
     "name": "stderr",
     "output_type": "stream",
     "text": [
      "Creating a unified DataFrame : Adding Mouses Cells ...:   0%|          | 0/4 [00:00<?, ?it/s]"
     ]
    },
    {
     "name": "stdout",
     "output_type": "stream",
     "text": [
      "[6.622, 14.7971, 43.31045, 50.7185, 57.35775, 74.6086, 85.15885]\n",
      "[ True  True  True  True  True  True  True]\n"
     ]
    },
    {
     "name": "stderr",
     "output_type": "stream",
     "text": [
      "Creating a unified DataFrame : Adding Mouses Cells ...: 57it [00:00, 168.14it/s]             "
     ]
    },
    {
     "name": "stdout",
     "output_type": "stream",
     "text": [
      "[5.4221, 13.1794, 19.3196, 32.63125, 38.1498, 65.81155, 83.97]\n",
      "[ True  True  True  True  True  True  True]\n",
      "[4.9129, 11.1521, 19.0444, 41.3535, 62.5508, 69.55335, 85.4142]\n",
      "[ True  True  True  True  True  True  True]\n",
      "[7.31865, 18.8587, 25.96895, 31.2088, 60.9385, 72.40915]\n",
      "[ True  True  True  True  True  True]\n",
      "[8.3944, 14.43425, 35.6046, 40.612, 57.4047, 80.0248, 85.4049]\n",
      "[ True  True  True  True  True  True  True]\n",
      "[7.3148, 12.1135, 38.24465, 60.61485, 81.9566, 88.8935]\n",
      "[ True  True  True  True  True  True]\n",
      "[8.3636, 22.10365, 49.9525, 64.91495, 71.49365, 79.78495]\n",
      "[ True  True  True  True  True  True]\n",
      "[5.6328, 10.1851, 38.64535, 43.35535, 48.3754, 52.8729, 88.2349]\n",
      "[ True  True  True  True  True  True  True]\n",
      "[11.7447, 30.0449, 35.8627, 65.61385, 71.4853, 79.63545]\n",
      "[ True  True  True  True  True  True]\n",
      "[6.9562, 22.1565, 30.9789, 45.5705]\n",
      "[ True  True  True  True]\n",
      "[6.88655, 29.6165, 46.1465, 60.31585, 71.57685, 87.67405]\n",
      "[ True  True  True  True  True  True]\n",
      "[6.7259, 30.5577, 37.57385, 47.9162, 68.32645, 75.2881]\n",
      "[ True  True  True  True  True  True]\n",
      "[7.18635, 13.3549, 28.34505, 49.3155, 64.70535, 75.2657]\n",
      "[ True  True  True  True  True  True]\n",
      "[8.8101, 36.7202, 42.81065, 56.98775, 87.31995]\n",
      "[ True  True  True  True  True]\n",
      "[10.6658, 39.6132, 51.29615, 68.1063, 77.0163]\n",
      "[ True  True  True  True  True]\n",
      "[6.43355, 21.60455, 47.24595, 67.8761, 84.0864]\n",
      "[ True  True  True  True  True]\n",
      "[4.99975, 22.2109, 28.72065, 65.941]\n",
      "[ True  True  True  True]\n",
      "[8.0266, 35.655, 40.79655, 68.61675, 79.94685]\n",
      "[ True  True  True  True  True]\n",
      "[4.85125, 18.5023, 51.4817, 64.1083, 73.85095]\n",
      "[ True  True  True  True  True]\n",
      "[5.46625, 29.6465, 45.49665, 51.25655, 67.725]\n",
      "[ True  True  True  True  True]\n",
      "[6.63625, 15.2553, 33.64575, 39.5257, 86.6872]\n",
      "[ True  True  True  True  True]\n",
      "[7.36495, 27.65595, 33.62595, 58.4965, 64.4555, 84.2254]\n",
      "[ True  True  True  True  True  True]\n",
      "[7.0053, 14.1385, 20.0174, 25.9869, 31.57975, 74.98725, 82.63485]\n",
      "[ True  True  True  True  True  True  True]\n",
      "[3.3601, 7.7311, 12.70735, 18.1653, 19.3721, 25.1596, 28.8172]\n",
      "[ True  True  True  True  True  True  True]\n",
      "[3.3601, 7.7311, 12.70735, 18.1653, 19.3721, 25.1596, 28.8172]\n",
      "[ True  True  True  True  True  True  True]\n",
      "[2.2177, 5.89095, 10.06795, 12.08995, 16.37385, 21.1031, 23.00755, 27.50705]\n",
      "[ True  True  True  True  True  True  True  True]\n",
      "[2.2177, 5.89095, 10.06795, 12.08995, 16.37385, 21.1031, 23.00755, 27.50705]\n",
      "[ True  True  True  True  True  True  True  True]\n",
      "[2.2177, 5.89095, 10.06795, 12.08995, 16.37385, 21.1031, 23.00755, 27.50705]\n",
      "[ True  True  True  True  True  True  True  True]\n",
      "[2.2177, 5.89095, 10.06795, 12.08995, 16.37385, 21.1031, 23.00755, 27.50705]\n",
      "[ True  True  True  True  True  True  True  True]\n",
      "[3.1077, 7.3952, 12.55115, 14.71485, 18.55555, 23.1525, 24.84875]\n",
      "[ True  True  True  True  True  True  True]\n",
      "[3.1077, 7.3952, 12.55115, 14.71485, 18.55555, 23.1525, 24.84875]\n",
      "[ True  True  True  True  True  True  True]\n",
      "[3.1077, 7.3952, 12.55115, 14.71485, 18.55555, 23.1525, 24.84875]\n",
      "[ True  True  True  True  True  True  True]\n",
      "[2.71125, 4.90365, 6.4438, 11.8472, 14.753, 18.6156, 23.5161, 28.7248]\n",
      "[ True  True  True  True  True  True  True  True]\n",
      "[2.71125, 4.90365, 6.4438, 11.8472, 14.753, 18.6156, 23.5161, 28.7248]\n",
      "[ True  True  True  True  True  True  True  True]\n",
      "[3.23735, 7.59845, 11.66295, 15.36585, 17.15875, 22.54625, 24.83435, 27.99765]\n",
      "[ True  True  True  True  True  True  True  True]\n",
      "[3.23735, 7.59845, 11.66295, 15.36585, 17.15875, 22.54625, 24.83435, 27.99765]\n",
      "[ True  True  True  True  True  True  True  True]\n",
      "[3.23735, 7.59845, 11.66295, 15.36585, 17.15875, 22.54625, 24.83435, 27.99765]\n",
      "[ True  True  True  True  True  True  True  True]\n",
      "[3.23735, 7.59845, 11.66295, 15.36585, 17.15875, 22.54625, 24.83435, 27.99765]\n",
      "[ True  True  True  True  True  True  True  True]\n",
      "[1.0637, 2.18145, 6.33175, 7.4437, 8.95115, 11.93815, 13.77085, 15.4939, 20.973, 22.54865, 26.7017]\n",
      "[ True  True  True  True  True  True  True  True  True  True  True]\n",
      "[1.0637, 2.18145, 6.33175, 7.4437, 8.95115, 11.93815, 13.77085, 15.4939, 20.973, 22.54865, 26.7017]\n",
      "[ True  True  True  True  True  True  True  True  True  True  True]\n"
     ]
    },
    {
     "name": "stderr",
     "output_type": "stream",
     "text": [
      "Creating a unified DataFrame : Adding Mouses Cells ...: 66it [00:09,  7.01it/s] "
     ]
    },
    {
     "name": "stdout",
     "output_type": "stream",
     "text": [
      "[1.0637, 2.18145, 6.33175, 7.4437, 8.95115, 11.93815, 13.77085, 15.4939, 20.973, 22.54865, 26.7017]\n",
      "[ True  True  True  True  True  True  True  True  True  True  True]\n"
     ]
    },
    {
     "name": "stderr",
     "output_type": "stream",
     "text": [
      "\n"
     ]
    }
   ],
   "source": [
    "#choice_mouses = [ \"LB010\", \"LB011\", \"LB012\", \"LB013\", \"LB014\", \"LB015\", \"LB017\", \"LB018\", \"LB019\", \"LB021\", \"LB022\", \"LB023\", \"LB024\", \"LB025\", \"LB026\", \"LB027\", \"LB028\", \"LB030\", \"LB031\", \"LB032\", \"LB033\", \"LB034\", \"LB035\", \"LB036\", \"LB037\", \"LB039\", \"LB042\", \"LB043\", \"LB044\", \"LB045\", \"LB046\", \"LB047\", \"LS001\", \"LS003\", \"SC014\", \"SC016\", \"SC017\"] # All without SC\n",
    "choice_mouses = [\"LS001\", \"LS003\", \"SC016\", \"SC017\"]\n",
    "#choice_mouses = [ \"LB010\",  \"LB012\", \"LB013\",  \"LB015\", \"LB017\",\"LB019\",  \"LB022\", \"LB023\",  \"LB025\",  \"LB027\", \"LB028\",  \"LB031\", \"LB032\",  \"LB034\",  \"LB036\", \"LB037\", \"LB039\", \"LB042\", \"LB043\",  \"LB045\", \"LB047\", \"LS001\", \"LS003\"] #Semi-all\n",
    "#choice_mouses = [\"LB010\", \"LB011\", 'LB012'!, 'LB039', 'LB042', 'LS001']\n",
    "#choice_mouses = [\"LB019\"]\n",
    "#--------\n",
    "importlib.reload(converters.Initiation_nwb)\n",
    "csv_data = converters.Initiation_nwb.files_to_dataframe(mat_file = mat_file, choice_mouses = choice_mouses, dataframe_subject = subject_session_selection)"
   ]
  },
  {
   "cell_type": "code",
   "execution_count": 17,
   "id": "478b77a8",
   "metadata": {},
   "outputs": [
    {
     "data": {
      "text/plain": [
       "Index(['Mouse Name', 'User (user_userName)', 'Cell_ID', 'Ear tag',\n",
       "       'Start date (dd.mm.yy)', 'End date', 'Sex_bin', 'strain', 'mutations',\n",
       "       'Birth date', 'licence', 'DG', 'ExpEnd', 'Created on', 'Session',\n",
       "       'Session Date (yyymmdd)', 'Start Time (hhmmss)', 'Behavior Type',\n",
       "       'Session Type', 'sweeps', 'Opto Session', 'Mouse Age (d)',\n",
       "       'Weight of Reference', 'Weight Session', 'task', 'counter'],\n",
       "      dtype='object')"
      ]
     },
     "metadata": {},
     "output_type": "display_data"
    },
    {
     "data": {
      "text/html": [
       "<div>\n",
       "<style scoped>\n",
       "    .dataframe tbody tr th:only-of-type {\n",
       "        vertical-align: middle;\n",
       "    }\n",
       "\n",
       "    .dataframe tbody tr th {\n",
       "        vertical-align: top;\n",
       "    }\n",
       "\n",
       "    .dataframe thead th {\n",
       "        text-align: right;\n",
       "    }\n",
       "</style>\n",
       "<table border=\"1\" class=\"dataframe\">\n",
       "  <thead>\n",
       "    <tr style=\"text-align: right;\">\n",
       "      <th></th>\n",
       "      <th>Mouse Name</th>\n",
       "      <th>User (user_userName)</th>\n",
       "      <th>Cell_ID</th>\n",
       "      <th>Ear tag</th>\n",
       "      <th>Start date (dd.mm.yy)</th>\n",
       "      <th>End date</th>\n",
       "      <th>Sex_bin</th>\n",
       "      <th>strain</th>\n",
       "      <th>mutations</th>\n",
       "      <th>Birth date</th>\n",
       "      <th>...</th>\n",
       "      <th>Created on</th>\n",
       "      <th>Session</th>\n",
       "      <th>Session Date (yyymmdd)</th>\n",
       "      <th>Start Time (hhmmss)</th>\n",
       "      <th>Behavior Type</th>\n",
       "      <th>Session Type</th>\n",
       "      <th>Opto Session</th>\n",
       "      <th>Mouse Age (d)</th>\n",
       "      <th>Weight of Reference</th>\n",
       "      <th>Weight Session</th>\n",
       "    </tr>\n",
       "  </thead>\n",
       "  <tbody>\n",
       "    <tr>\n",
       "      <th>0</th>\n",
       "      <td>LB019</td>\n",
       "      <td>lbanterl</td>\n",
       "      <td>LB019_S1_R1</td>\n",
       "      <td>CPE-J27763</td>\n",
       "      <td>28.05.2018</td>\n",
       "      <td>19.07.2018</td>\n",
       "      <td>F</td>\n",
       "      <td>C57BL/6JRj</td>\n",
       "      <td>WT</td>\n",
       "      <td>15.04.2018</td>\n",
       "      <td>...</td>\n",
       "      <td>23/05/2018 15:02:03</td>\n",
       "      <td>LB019_S1_R1_20180719</td>\n",
       "      <td>20180719</td>\n",
       "      <td>151416</td>\n",
       "      <td>Whisker rewarded (WR+)</td>\n",
       "      <td>Trained</td>\n",
       "      <td>NaN</td>\n",
       "      <td>43</td>\n",
       "      <td>20.2</td>\n",
       "      <td>18.7</td>\n",
       "    </tr>\n",
       "    <tr>\n",
       "      <th>1</th>\n",
       "      <td>LB019</td>\n",
       "      <td>lbanterl</td>\n",
       "      <td>LB019_S1_R2</td>\n",
       "      <td>CPE-J27763</td>\n",
       "      <td>28.05.2018</td>\n",
       "      <td>19.07.2018</td>\n",
       "      <td>F</td>\n",
       "      <td>C57BL/6JRj</td>\n",
       "      <td>WT</td>\n",
       "      <td>15.04.2018</td>\n",
       "      <td>...</td>\n",
       "      <td>23/05/2018 15:02:03</td>\n",
       "      <td>LB019_S1_R2_20180719</td>\n",
       "      <td>20180719</td>\n",
       "      <td>165121</td>\n",
       "      <td>Whisker rewarded (WR+)</td>\n",
       "      <td>Trained</td>\n",
       "      <td>NaN</td>\n",
       "      <td>43</td>\n",
       "      <td>20.2</td>\n",
       "      <td>18.7</td>\n",
       "    </tr>\n",
       "  </tbody>\n",
       "</table>\n",
       "<p>2 rows × 23 columns</p>\n",
       "</div>"
      ],
      "text/plain": [
       "  Mouse Name User (user_userName)      Cell_ID     Ear tag  \\\n",
       "0      LB019             lbanterl  LB019_S1_R1  CPE-J27763   \n",
       "1      LB019             lbanterl  LB019_S1_R2  CPE-J27763   \n",
       "\n",
       "  Start date (dd.mm.yy)    End date Sex_bin      strain mutations  Birth date  \\\n",
       "0            28.05.2018  19.07.2018       F  C57BL/6JRj        WT  15.04.2018   \n",
       "1            28.05.2018  19.07.2018       F  C57BL/6JRj        WT  15.04.2018   \n",
       "\n",
       "   ...           Created on               Session  Session Date (yyymmdd)  \\\n",
       "0  ...  23/05/2018 15:02:03  LB019_S1_R1_20180719                20180719   \n",
       "1  ...  23/05/2018 15:02:03  LB019_S1_R2_20180719                20180719   \n",
       "\n",
       "  Start Time (hhmmss)           Behavior Type Session Type Opto Session  \\\n",
       "0              151416  Whisker rewarded (WR+)      Trained          NaN   \n",
       "1              165121  Whisker rewarded (WR+)      Trained          NaN   \n",
       "\n",
       "  Mouse Age (d) Weight of Reference  Weight Session  \n",
       "0            43                20.2            18.7  \n",
       "1            43                20.2            18.7  \n",
       "\n",
       "[2 rows x 23 columns]"
      ]
     },
     "metadata": {},
     "output_type": "display_data"
    },
    {
     "data": {
      "text/plain": [
       "{'relative_s': [38.33895, 38.36135, 82.32015, 82.50655, 84.78815],\n",
       " 'absolute': [735.33895, 735.36135, 779.32015, 779.50655, 781.78815]}"
      ]
     },
     "metadata": {},
     "output_type": "display_data"
    },
    {
     "data": {
      "text/plain": [
       "'151416'"
      ]
     },
     "metadata": {},
     "output_type": "display_data"
    }
   ],
   "source": [
    "display(csv_data.columns)\n",
    "display(csv_data[['Mouse Name', 'User (user_userName)', 'Cell_ID', 'Ear tag',\n",
    "        'Start date (dd.mm.yy)', 'End date', 'Sex_bin', 'strain', 'mutations',\n",
    "        'Birth date', 'licence', 'DG', 'ExpEnd', 'Created on', 'Session',\n",
    "        'Session Date (yyymmdd)', 'Start Time (hhmmss)', 'Behavior Type',\n",
    "        'Session Type', 'Opto Session', 'Mouse Age (d)', 'Weight of Reference',\n",
    "        'Weight Session']].head(5))\n",
    "display(csv_data.iloc[0][\"sweeps\"][6][\"ap_times\"])\n",
    "display(csv_data.iloc[0][\"Start Time (hhmmss)\"])"
   ]
  },
  {
   "cell_type": "code",
   "execution_count": null,
   "id": "3cbbe540",
   "metadata": {},
   "outputs": [],
   "source": [
    "print(csv_data[\"Session Type\"].unique())\n",
    "print(csv_data[\"Behavior Type\"].unique())"
   ]
  },
  {
   "cell_type": "markdown",
   "id": "66cd9291",
   "metadata": {},
   "source": [
    "# TEST"
   ]
  },
  {
   "cell_type": "code",
   "execution_count": null,
   "id": "92a454b1",
   "metadata": {},
   "outputs": [],
   "source": [
    "csv_data_row = csv_data.iloc[0]\n",
    "csv_data_row"
   ]
  },
  {
   "cell_type": "code",
   "execution_count": null,
   "id": "297693a5",
   "metadata": {},
   "outputs": [],
   "source": [
    "    new_columns = {\n",
    "        'trial_type': 'stimulus Whisker vs no stimulus trial',\n",
    "        'whisker_stim': '1 if whisker stimulus delivered, else 0',\n",
    "        'perf': '0= whisker miss; 1= whisker hit ; 2= correct rejection ; 3= false alarm',\n",
    "        \"whisker_stim_amplitude\": \"Amplitude of the whisker stimulation between 0 and 5\",\n",
    "        \"whisker_stim_duration\": \"Duration of the whisker stimulation (ms)\",\n",
    "        \"whisker_stim_time\": \"trial start time for whisker_stim=1 else NaN\",\n",
    "        \"no_stim\" : \"1 if no stimulus delivered, else 0\",\n",
    "        \"no_stim_time\": \"trial start time for no_stim=1 (catch trial) else NaN\",\n",
    "        \"reward_available\": \"1 if reward is available, else 0\",\n",
    "        \"response_window_start_time\": \"Start of response window\",\n",
    "        \"response_window_stop_time\": \"Stop of response window\",\n",
    "        \"lick_flag\": \"1 if lick detected, else 0\",\n",
    "        \"lick_time\": \"Within response window lick time. Absolute time (s) relative to session start time\"\n",
    "    }"
   ]
  },
  {
   "cell_type": "code",
   "execution_count": null,
   "id": "e351a6f8",
   "metadata": {},
   "outputs": [],
   "source": [
    "sweep_data = csv_data_row[\"sweeps\"]\n",
    "trial_onsets = np.array([])\n",
    "whisker_stim = np.array([])\n",
    "perf = np.array([])\n",
    "whisker_stim_amplitude = np.array([])\n",
    "whisker_stim_time = np.array([])\n",
    "reward_available = np.array([])\n",
    "\n",
    "Sweep_IDs = np.array([])\n",
    "Sweep_Start_time = np.array([])\n",
    "Sweep_Stop_time = np.array([])\n",
    "trial_type = np.array([])\n",
    "lick_flag = np.array([])\n",
    "stim_type = np.array([])\n",
    "el = sweep_data[0]\n",
    "print(el.keys())\n",
    "print(el[\"trials\"][0].keys())\n",
    "\n",
    "for One_sweep in sweep_data:\n",
    "    for One_trial in One_sweep[\"trials\"]:\n",
    "        trial_onsets = np.append(trial_onsets, One_trial[\"time_abs\"])\n",
    "        whisker_stim = np.append(whisker_stim, One_trial[\"has_stim\"])\n",
    "        whisker_stim_amplitude = np.append(whisker_stim_amplitude, One_trial[\"amplitude\"])\n",
    "        perf = np.append(perf, One_trial[\"response\"])\n",
    "        Sweep_IDs = np.append(Sweep_IDs, One_sweep[\"Sweep Index\"])\n",
    "        Sweep_Start_time = np.append(Sweep_Start_time, One_sweep[\"Sweep Start Time\"])\n",
    "        Sweep_Stop_time = np.append(Sweep_Stop_time, One_sweep[\"Sweep Stop Time\"])\n",
    "        trial_type = np.append(trial_type, One_sweep[\"Sweep Type\"])\n",
    "        whisker_stim_time = np.append(whisker_stim_time, One_trial[\"stim_time_abs\"] if One_trial[\"has_stim\"] else np.nan)\n",
    "        reward_available = np.append(reward_available, 1 if One_trial[\"reward\"] else 0)\n",
    "        lick_flag = np.append(lick_flag, 1 if One_trial[\"lick\"] else 0)\n",
    "        stim_type = np.append(stim_type, One_sweep[\"type\"])\n",
    "\n",
    "trial_onsets = trial_onsets.astype(np.float64)\n",
    "whisker_stim = whisker_stim.astype(np.int64)\n",
    "whisker_stim_amplitude = whisker_stim_amplitude.astype(np.int64)\n",
    "perf = perf.astype(np.int64)\n",
    "whisker_stim_time = whisker_stim_time.astype(np.float64)\n",
    "reward_available = reward_available.astype(np.int64)\n",
    "Sweep_IDs = Sweep_IDs.astype(np.int64)\n",
    "Sweep_Start_time = Sweep_Start_time.astype(np.float64)\n",
    "trial_type = trial_type.astype(str)\n",
    "lick_flag = lick_flag.astype(np.int64)\n",
    "stim_type = stim_type.astype(str)\n",
    "\n",
    "\n",
    "\"\"\"\n",
    "response_labels = np.full(perf.shape, '', dtype=object)\n",
    "response_labels[perf == 1] = \"hit\"\n",
    "response_labels[perf == 0] = \"miss\"\n",
    "response_labels[perf == 2] = \"CR\"\n",
    "response_labels[perf == 3] = \"FA\"\n",
    "\"\"\"\n",
    "\n",
    "\n",
    "\n",
    "#print(trial_onsets[:30],trial_onsets.shape)\n",
    "#print(whisker_stim[:30],whisker_stim.shape)\n",
    "#print(whisker_stim_amplitude[:30],whisker_stim_amplitude.shape,np.unique(whisker_stim_amplitude))\n",
    "##print(perf[:30],perf.shape, np.unique(perf))\n",
    "#print(Sweep_IDs[:30],Sweep_IDs.shape, np.unique(Sweep_IDs))\n",
    "#print(Sweep_Start_time[:30],Sweep_Start_time.shape)\n",
    "#print(sweep_type[:30],sweep_type.shape, np.unique(sweep_type))"
   ]
  },
  {
   "cell_type": "code",
   "execution_count": null,
   "id": "bd47e0f7",
   "metadata": {},
   "outputs": [],
   "source": [
    "sweep_data = csv_data_row[\"sweeps\"]\n",
    "trial_onsets = []\n",
    "i =0 \n",
    "for One_sweep in sweep_data:\n",
    "    for One_trial in One_sweep[\"trials\"]:\n",
    "        i = i+1\n",
    "        print(i)\n",
    "        trial_onsets.append(One_trial[\"time_abs\"])\n"
   ]
  },
  {
   "cell_type": "code",
   "execution_count": null,
   "id": "5019fc39",
   "metadata": {},
   "outputs": [],
   "source": [
    "sweep_data"
   ]
  },
  {
   "cell_type": "markdown",
   "id": "e142f12d",
   "metadata": {},
   "source": [
    " # TOTAL _-_-_-_-_-_-_-_\n",
    " "
   ]
  },
  {
   "cell_type": "code",
   "execution_count": null,
   "id": "03448e11",
   "metadata": {},
   "outputs": [
    {
     "name": "stdout",
     "output_type": "stream",
     "text": [
      "**************************************************************************\n",
      "-_-_-_-_-_-_-_-_-_-_-_-_-_-_- NWB conversion _-_-_-_-_-_-_-_-_-_-_-_-_-_-_\n",
      "📥 Collecting data from .mat file:  /Users/lorisfabbro/Documents/MATLAB/PB/mPFC_Preprocessed.mat\n"
     ]
    },
    {
     "name": "stderr",
     "output_type": "stream",
     "text": [
      " 20%|██        | 1/5 [00:01<00:04,  1.11s/it]"
     ]
    },
    {
     "name": "stdout",
     "output_type": "stream",
     "text": [
      "Loading mouse metadata ...\n"
     ]
    },
    {
     "name": "stderr",
     "output_type": "stream",
     "text": [
      " 40%|████      | 2/5 [00:53<01:34, 31.44s/it]"
     ]
    },
    {
     "name": "stdout",
     "output_type": "stream",
     "text": [
      "Loading sweep signal data (1/3) ...\n"
     ]
    },
    {
     "name": "stderr",
     "output_type": "stream",
     "text": [
      " 60%|██████    | 3/5 [01:46<01:21, 40.99s/it]"
     ]
    },
    {
     "name": "stdout",
     "output_type": "stream",
     "text": [
      "Loading sweep signal data (2/3) ...\n"
     ]
    },
    {
     "name": "stderr",
     "output_type": "stream",
     "text": [
      " 80%|████████  | 4/5 [01:47<00:25, 25.32s/it]"
     ]
    },
    {
     "name": "stdout",
     "output_type": "stream",
     "text": [
      "Loading sweep signal data (3/3) ...\n"
     ]
    },
    {
     "name": "stderr",
     "output_type": "stream",
     "text": [
      "100%|██████████| 5/5 [01:48<00:00, 21.70s/it]\n"
     ]
    },
    {
     "name": "stdout",
     "output_type": "stream",
     "text": [
      "Loading sweep behavior data ...\n",
      "Converting data to NWB format for mouse:\n",
      "['LB019_S1_R1', 'LB019_S1_R2', 'LB024_S1_R1', 'LB024_S1_R2', 'LB025_S1_R1', 'LB025_S1_R2', 'SC014_S1_R1', 'SC014_S1_R3']\n"
     ]
    },
    {
     "name": "stderr",
     "output_type": "stream",
     "text": [
      "Processing : 100%|██████████| 8/8 [00:18<00:00,  2.32s/it, SC014]"
     ]
    },
    {
     "name": "stdout",
     "output_type": "stream",
     "text": [
      "**************************************************************************\n"
     ]
    },
    {
     "name": "stderr",
     "output_type": "stream",
     "text": [
      "\n"
     ]
    }
   ],
   "source": [
    "import numpy as np\n",
    "import h5py\n",
    "import os\n",
    "import yaml\n",
    "import pandas as pd\n",
    "from datetime import datetime\n",
    "import shutil\n",
    "import importlib\n",
    "import numpy as np\n",
    "import pandas as pd\n",
    "import convert_to_nwb_for_LB\n",
    "import converters.Initiation_nwb\n",
    "import scipy.io\n",
    "import warnings\n",
    "from datetime import timedelta\n",
    "from tqdm import tqdm\n",
    "import time\n",
    "import shutil\n",
    "\n",
    "output_folder_serveur = \"/Volumes/Petersen-Lab/z_LSENS/Share/Loris Fabbro/LB/NWB_files/\"\n",
    "input_folder_local = \"/Users/lorisfabbro/Documents/MATLAB/PB/mPFC_Preprocessed.mat\"\n",
    "output_folder_local = \"data\"\n",
    "importlib.reload(convert_to_nwb_for_LB)\n",
    "nwb_path = convert_to_nwb_for_LB.convert_data_to_nwb_LB(input_folder=input_folder_local, output_folder=output_folder_local, choice_mouses = [\"LB019\",\"LB024\", \"LB025\",\"SC014\"])"
   ]
  },
  {
   "cell_type": "code",
   "execution_count": null,
   "id": "56a9777e",
   "metadata": {},
   "outputs": [],
   "source": [
    "importlib.reload(converters.Initiation_nwb)\n",
    "converters.Initiation_nwb.remove_nwb_files(\"data\")"
   ]
  }
 ],
 "metadata": {
  "kernelspec": {
   "display_name": "lsens_nwb",
   "language": "python",
   "name": "python3"
  },
  "language_info": {
   "codemirror_mode": {
    "name": "ipython",
    "version": 3
   },
   "file_extension": ".py",
   "mimetype": "text/x-python",
   "name": "python",
   "nbconvert_exporter": "python",
   "pygments_lexer": "ipython3",
   "version": "3.9.23"
  }
 },
 "nbformat": 4,
 "nbformat_minor": 5
}
